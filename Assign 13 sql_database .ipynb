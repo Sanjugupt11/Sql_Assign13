{
 "cells": [
  {
   "cell_type": "code",
   "execution_count": 2,
   "id": "13f376fc-663e-4c1d-9359-7cb560fa2b54",
   "metadata": {},
   "outputs": [
    {
     "data": {
      "text/plain": [
       "'Q1. What is a database? Differentiate between SQL and NoSQL databases.\\nAnswer: A database is an organized collection of structured information, or data, typically stored electronically in a \\ncomputer system\\nType – \\nSQL databases are primarily called as Relational Databases (RDBMS); whereas\\nNoSQL database are primarily called as non-relational or distributed database. \\nSQL-These databases have fixed or static or predefined schema\\t\\nNOSQL-They have dynamic schema'"
      ]
     },
     "execution_count": 2,
     "metadata": {},
     "output_type": "execute_result"
    }
   ],
   "source": [
    "Q1. What is a database? Differentiate between SQL and NoSQL databases.\n",
    "Answer: A database is an organized collection of structured information, or data, typically stored electronically in a \n",
    "computer system\n",
    "Type – \n",
    "SQL databases are primarily called as Relational Databases (RDBMS); whereas\n",
    "NoSQL database are primarily called as non-relational or distributed database. \n",
    "SQL-These databases have fixed or static or predefined schema\t\n",
    "NOSQL-They have dynamic schema"
   ]
  },
  {
   "cell_type": "code",
   "execution_count": null,
   "id": "f951689b-bdc2-400c-aeb1-48d7f8c52384",
   "metadata": {},
   "outputs": [],
   "source": [
    "Q2. What is DDL? Explain why CREATE, DROP, ALTER, and TRUNCATE are used with an example.\n",
    "Answer:-Data Definition Language (DDL) is a subset of SQL. It is a language for describing data and its relationships \n",
    "in a database\n",
    "The CREATE TABLE command creates a new table in the database.\n",
    "The ALTER TABLE command adds, deletes, or modifies columns in a table.\n",
    "The ALTER TABLE command also adds and deletes various constraints in a table.\n",
    "The DROP TABLE command deletes a table in the database.\n",
    "The TRUNCATE TABLE command deletes the data inside a table, but not the table itself.\n",
    "Example:- "
   ]
  },
  {
   "cell_type": "code",
   "execution_count": null,
   "id": "c896fda4-00dd-4572-90bf-219bef117ac2",
   "metadata": {},
   "outputs": [],
   "source": [
    "CREATE TABLE Persons (\n",
    "    PersonID int,\n",
    "    LastName varchar(255),\n",
    "    FirstName varchar(255),\n",
    "    Address varchar(255),\n",
    "    City varchar(255)\n",
    ");"
   ]
  },
  {
   "cell_type": "code",
   "execution_count": null,
   "id": "c0242919-b005-4ecf-9fea-6a282a41ac6b",
   "metadata": {},
   "outputs": [],
   "source": [
    "ALTER TABLE Customers\n",
    "ADD Email varchar(255);"
   ]
  },
  {
   "cell_type": "code",
   "execution_count": null,
   "id": "d161c099-5abf-4062-b2bc-f20453ad583b",
   "metadata": {},
   "outputs": [],
   "source": [
    "DROP TABLE Shippers;"
   ]
  },
  {
   "cell_type": "code",
   "execution_count": null,
   "id": "1f187565-0f65-4026-893d-bcc8a717d5e0",
   "metadata": {},
   "outputs": [],
   "source": [
    "TRUNCATE TABLE Categories;"
   ]
  },
  {
   "cell_type": "code",
   "execution_count": null,
   "id": "612f9792-3576-42c4-ba74-7fa7f6192678",
   "metadata": {},
   "outputs": [],
   "source": [
    "Q3. What is DML? Explain INSERT, UPDATE, and DELETE with an example.\n",
    "Answer:-Data Manipulation Language (DML\n",
    "It is the component of the SQL statement that controls access to data and to the database\n",
    "The INSERT statement introduces new rows into an existing table.\n",
    "The DELETE statement removes a row or combination of rows from a table.\n",
    "The UPDATE statement enables users to update a row or group of rows in a table.\n",
    "                                    "
   ]
  },
  {
   "cell_type": "code",
   "execution_count": null,
   "id": "b08e0700-30f2-4e6b-9f39-642a52c0d8c8",
   "metadata": {},
   "outputs": [],
   "source": [
    "INSERT INTO Students(StudentId, StudentName, DepartmentId, DateOfBirth)\n",
    "              VALUES(11, 'Ahmad', 4, '1997-10-12');"
   ]
  },
  {
   "cell_type": "code",
   "execution_count": null,
   "id": "acbf03f8-cdbf-40e0-8ce4-76baec49b3ac",
   "metadata": {},
   "outputs": [],
   "source": [
    "UPDATE Students\n",
    "SET DepartmentId = 3 \n",
    "WHERE StudentId = 6;"
   ]
  },
  {
   "cell_type": "code",
   "execution_count": null,
   "id": "8fd5f513-ef31-4b35-a775-399ab2ce35df",
   "metadata": {},
   "outputs": [],
   "source": [
    "DELETE FROM Students WHERE StudentId = 11 OR StudentId = 12;"
   ]
  },
  {
   "cell_type": "code",
   "execution_count": null,
   "id": "331b98c5-a5b2-426e-a374-74465866a392",
   "metadata": {},
   "outputs": [],
   "source": [
    "Q4. What is DQL? Explain SELECT with an example.\n",
    "Answer:- DQLs or Data Query Languages, are computer languages that are used to make various queries in information \n",
    "systems and databases.\n",
    "select is use to select the query \n",
    "select *from customer:\n",
    "    "
   ]
  },
  {
   "cell_type": "code",
   "execution_count": null,
   "id": "732e3471-34b9-4d0c-8c59-fb742a316a79",
   "metadata": {},
   "outputs": [],
   "source": [
    "Q5. Explain Primary Key and Foreign Key.\n",
    "Answer:-A primary key generally focuses on the uniqueness of the table. It assures the value in the specific column\n",
    "is unique. A foreign key is generally used to build a relationship between the two tables.\n",
    "Table allows only one primary key.\n"
   ]
  },
  {
   "cell_type": "code",
   "execution_count": null,
   "id": "8fdc27c2-3941-4f37-b134-4486011ba5f8",
   "metadata": {},
   "outputs": [],
   "source": [
    "Q6. Write a python code to connect MySQL to python. Explain the cursor() and execute() method.\n",
    "Answer:- \n",
    "import mysql.connector\n",
    "mydb = mysql.connector.connect(\n",
    "  host=\"localhost\",\n",
    "  user=\"abc\",\n",
    "  password=\"password\"\n",
    ")\n",
    "print(mydb)\n",
    "mycursor = mydb.cursor()\n",
    "mycursor.execute(\"SHOW DATABASES\")\n",
    "for x in mycursor:\n",
    "  print(x)\n",
    "\n",
    "cursor. explain() returns the queryPlanner and executionStats information for the evaluated method.\n",
    "The executionStats includes the completed query execution information for the winning plan.\n",
    "\n",
    "The Execute method executes the query, SQL statement or procedure specified in the CommandText property of the Command \n",
    "object.The results are stored in a new Recordset object if it is a row-returning query. A closed Recordset object will be\n",
    "returned if it is not a row-returning query"
   ]
  },
  {
   "cell_type": "code",
   "execution_count": null,
   "id": "88b80132-973f-4c84-8efa-62f96cce26ca",
   "metadata": {},
   "outputs": [],
   "source": [
    "Q7. Give the order of execution of SQL clauses in an SQL query.\n",
    "\n",
    "Answer:-1. FROM/JOIN: The FROM and/or JOIN clauses are executed first to determine the data of interest.\n",
    "\n",
    "2. WHERE: The WHERE clause is executed to filter out records that do not meet the constraints.\n",
    "\n",
    "3. GROUP BY: The GROUP BY clause is executed to group the data based on the values in one or more columns.\n",
    "\n",
    "4. HAVING: The HAVING clause is executed to remove the created grouped records that don’t meet the constraints.\n",
    "\n",
    "5. SELECT: The SELECT clause is executed to derive all desired columns and expressions.\n",
    "\n",
    "6. ORDER BY: The ORDER BY clause is executed to sort the derived values in ascending or descending order.\n",
    "\n",
    "7. LIMIT/OFFSET: Finally, the LIMIT and/or OFFSET clauses are executed to keep or skip a specified number of rows.\n",
    "\n",
    "\n"
   ]
  }
 ],
 "metadata": {
  "kernelspec": {
   "display_name": "Python 3 (ipykernel)",
   "language": "python",
   "name": "python3"
  },
  "language_info": {
   "codemirror_mode": {
    "name": "ipython",
    "version": 3
   },
   "file_extension": ".py",
   "mimetype": "text/x-python",
   "name": "python",
   "nbconvert_exporter": "python",
   "pygments_lexer": "ipython3",
   "version": "3.10.8"
  }
 },
 "nbformat": 4,
 "nbformat_minor": 5
}
